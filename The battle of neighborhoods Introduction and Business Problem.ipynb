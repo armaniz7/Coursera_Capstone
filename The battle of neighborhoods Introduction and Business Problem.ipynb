{
 "cells": [
  {
   "cell_type": "markdown",
   "metadata": {},
   "source": [
    "# Capstone Project — The Battle of Neighborhoods"
   ]
  },
  {
   "cell_type": "markdown",
   "metadata": {},
   "source": [
    "### Finding suitable restaurants for tourist for their tastes and which neighborhoods of İzmir have vegetarian friendly restaurants"
   ]
  },
  {
   "cell_type": "markdown",
   "metadata": {},
   "source": [
    "## 1. Introduction/Business Problem "
   ]
  },
  {
   "cell_type": "markdown",
   "metadata": {},
   "source": [
    "İzmir is a city on Turkey’s Aegean coast.  It is the third most populous city in Turkey, where the \n",
    "city had a population of 2,972,900, while İzmir Province had a total population of 4,367,251.  Modern İzmir resides in the western extremity of Anatolia and hosts the nearby ancient cities of Ephesus, Pergamon, Sardis and Klazomenai, and centers of international tourism such as Kuşadası, Çeşme, Mordoğan and Foça.\n",
    "\n",
    "\n",
    "\n",
    "So, İzmir is an A tourist attraction is a place of interest where tourists visit, typically for its inherent or an exhibited natural or cultural value, historical significance, natural or built beauty, offering leisure and amusement. For tourists, who prefer vegetarian food, finding a right place to eat can be a daunting challenge, especially in a country like Turkey, where meat heavy dishes like Kebab, Doner are the most popular ones. Turkey is famous for its meat culture and is not quite vegetarian friendly.  Luckily, taking advantage of being an Aegean costal city, İzmir has lots of amazing seafood on offer for tourists, and we will discover by studying districts and neighbors applying machine learning tools and try to find best fits for their needs.\n",
    "\n",
    " **Questions that can be asked using the above mentioned dataset**\n",
    "\n",
    "The aim of this project is to explore, cluster, and segment the neighborhoods in the city of İzmir and give recommendations to tourists,  immigrants, friends , who are vegetarian and coming from the world to visit İzmir, based on the common restaurant categories in different neighborhoods.  This could also partially answer the question \n",
    "*  Where to open restaurants depending on their types in İzmir? \n",
    "\n",
    "Couple of questions can also be answered at the ends of the project. \n",
    "\n",
    "* What are the most frequently occurring venues in İzmir Which neighborhood has the higher number of of restaurants depending on its type?\n",
    "* Where to find vegetarian-friendly restaurant, sea foods restaurants?  \n",
    " \n"
   ]
  },
  {
   "cell_type": "markdown",
   "metadata": {},
   "source": [
    "## 2. Data Description"
   ]
  },
  {
   "cell_type": "markdown",
   "metadata": {},
   "source": [
    "* We will be using the below datasets for analyzing İzmir. İzmir data, which contains the list of districts, neighborhoods and their latitudes and longitudes.\n",
    "I found the data from data source from\n",
    "https://www.atlasbig.com/tr/izmirin-mahalleleri\n",
    "I needed to clean the data and reduced it to city of İzmir and its neighborhoods. I also changed some Turkish words to its English. \n",
    "There are 29 districts and 178 neighborhoods in İzmir. \n",
    "\n",
    "We have the coordinates. Foursquare API is used to get the most common venues of given neighborhoods of İzmir.  I will use the Foursquare location data to fetch all the venues in each neighborhood by their coordinates. After that, I will refine and group these venues to get only restaurants. \n",
    "\n"
   ]
  },
  {
   "cell_type": "code",
   "execution_count": null,
   "metadata": {},
   "outputs": [],
   "source": []
  }
 ],
 "metadata": {
  "kernelspec": {
   "display_name": "Python 3",
   "language": "python",
   "name": "python3"
  },
  "language_info": {
   "codemirror_mode": {
    "name": "ipython",
    "version": 3
   },
   "file_extension": ".py",
   "mimetype": "text/x-python",
   "name": "python",
   "nbconvert_exporter": "python",
   "pygments_lexer": "ipython3",
   "version": "3.7.1"
  }
 },
 "nbformat": 4,
 "nbformat_minor": 2
}
